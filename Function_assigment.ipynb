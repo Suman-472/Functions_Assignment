{
 "cells": [
  {
   "cell_type": "raw",
   "id": "f13e1ed6-713b-497e-87c1-440934f9c445",
   "metadata": {},
   "source": [
    "Theory Assignment"
   ]
  },
  {
   "cell_type": "code",
   "execution_count": null,
   "id": "43d0a417-0ff8-48b1-8c1d-a51173dacc09",
   "metadata": {},
   "outputs": [],
   "source": [
    "# 1. What is the difference between a function and a method in Python?\n",
    "\n",
    "## In Python, the distinction between a function and a method comes down to their context and usage:\n",
    "    #Function:\n",
    "         # Definition: Functions are nothing but a block of code which performs a specific task and can be called again and again as per requirement in the code.\n",
    "         # Syntax: Defined using the def keyword.\n",
    "         # Context: Functions are defined outside of any class. They are often used for procedural programming where the focus is on the sequence of tasks or operations.\n",
    "         # Parameters: Can have zero or more parameters.\n",
    "         # Example: \n",
    "                   def greetings(\"Suman\")\n",
    "                       print(\"Welcome to the office\")\n",
    "                   greetings(\"Suman\")\n",
    "                    Welcome to the office\n",
    "    # Method:\n",
    "         # Definition: A method is a function that is defined within a class. It is associated with a specific object or class instance.\n",
    "         # Syntax: Also defined using the def keyword, but the first parameter is always self (for instance methods) or cls (for class methods).\n",
    "         # Context: Context: Methods are used in object-oriented programming. They can modify object state, access attributes, and generally operate in the context of the class they belong to.\n",
    "         # Parameters: Parameters: Always include at least one parameter (self or cls).\n",
    "         # Example:\n",
    "                   class Calculator:\n",
    "                       def add(self, a, b):\n",
    "                          return a + b\n",
    "                    calc = Calculator()\n",
    "                    print(calc.add(2, 3))\n",
    "                    5"
   ]
  },
  {
   "cell_type": "code",
   "execution_count": null,
   "id": "d95033c1-dcce-47e6-ac18-bbf4de8a077e",
   "metadata": {},
   "outputs": [],
   "source": [
    "# 2.  Explain the concept of function arguments and parameters in Python.\n",
    "\n",
    "## In Python, function arguments and parameters are essential concepts for defining and calling functions.Here’s explanation of each concept.\n",
    "    # Function Arguments: \n",
    "              # Function arguments are values that you provide to a function when you call it.\n",
    "              # They are used to provide the function with the data it needs to perform its task.\n",
    "              # Arguments can be of any data type, including numbers, strings, lists, dictionaries, and more.\n",
    "              # They are enclosed in parentheses when the function is called.\n",
    "    # Parameters: \n",
    "                # Variables declared inside the function's parentheses that receive the values of the arguments passed to the function.\n",
    "                # They act as placeholders for the actual values that will be provided when the function is called.\n",
    "                # The number and types of parameters must match the number and types of arguments passed to the function.\n",
    "    # Relationship Between Arguments and Parameters:\n",
    "                # When a function is called with arguments, the values of the arguments are assigned to the corresponding parameters.\n",
    "                # The function can then use the values of the parameters to perform its calculations or operations.\n",
    "    # Example: \n",
    "            def greet(name):         # 'name' is a parameter\n",
    "                print(\"Hello name\")\n",
    "            greet(\"Suman\")           # \"Suman\" is an argument\n",
    "                  "
   ]
  },
  {
   "cell_type": "code",
   "execution_count": null,
   "id": "240ff8d7-a7b2-4d3d-9a3c-e23970a63289",
   "metadata": {},
   "outputs": [],
   "source": [
    "# 3.  What are the different ways to define and call a function in Python?\n",
    "\n",
    "## In Python, you can define and call functions in several ways.Here are some common ways to define and call functions in Python:\n",
    "         # Functions with Default Arguments: Functions can have default values for some or all arguments.\n",
    "               # Defining Functions:\n",
    "                                  def sum1(b,c,a = 5)\n",
    "                                      return a+b+c\n",
    "               # Calling Functions: \n",
    "                                  sum1(b = 4, c = 7)        # Output: 16\n",
    "         # Basic Function Definition:\n",
    "               # Defining Functions:\n",
    "                                  def greet(name):\n",
    "                                  print(f\"Hello, {name}!\")\n",
    "               # Calling Functions: \n",
    "                                  greet(\"Suman\")        # Output: Hello, Suman!\n",
    "        # Lambda Functions: Lambda functions are used for short, throwaway functions that are defined in a single line.\n",
    "               # Defining Functions: \n",
    "                                  my_lambda = lambda x, y: x + y\n",
    "               # Calling Functions:\n",
    "                                  result = my_lambda(7, 2)\n",
    "                                  print(result)  # Output: 9\n",
    "        # Functions with Variable-Length Arguments: We don't know the no of arguments.\n",
    "               # Defining Functions:\n",
    "                                  def sum1(*args)\n",
    "                                  return args\n",
    "               # Calling Functions:\n",
    "                                  sum1 (1,2,3)      # Output: 1,2,3 \n",
    "        # Nested Functions: Functions can be defined inside other functions.\n",
    "               # Defining Functions:\n",
    "                                  def only_numerc(a):\n",
    "                                      n = []\n",
    "                                      for i in a:\n",
    "                                          if type(i) ==list:\n",
    "                                             for j in i:\n",
    "                                                 if type(j) == int or type(j) == float:\\\n",
    "                                                     n.append(j)\n",
    "                                            else:\n",
    "                                                if type(i) == int or type(i) == float:\n",
    "                                                    n.append(i)\n",
    "                                        return n\n",
    "               # Calling Functions:\n",
    "                                  only_numeric([1, 2.2, \"Suman\", 3 +7j, true, 5, 6, 100, 102, \"pwskills\"])\n",
    "                                  # Output: [1, 2.2, 5, 6, 100, 102]"
   ]
  },
  {
   "cell_type": "code",
   "execution_count": null,
   "id": "afd72a79-33d0-4f20-9338-a3d6a5ccc0a6",
   "metadata": {},
   "outputs": [],
   "source": [
    "# 4. What is the purpose of the `return` statement in a Python function?\n",
    "\n",
    "## The 'return' statement in a Python function is used to exit the function and send a value back to the caller.\n",
    "    # Some key points about the return statement:\n",
    "      # Ends Function Execution: When a return statement is executed, the function terminates immediately, and control is transferred back to the calling code.\n",
    "      # Returns a Value: # The value provided with the return statement is sent back to the caller.If no value is provided, the function returns None by default.\n",
    "      # Multiple Return Statements: A function can have multiple return statements, typically within conditional blocks, to return different values based on different conditions.\n",
    "      # Example:\n",
    "                def add(a, b):\n",
    "                    result = a + b\n",
    "                    return result\n",
    "\n",
    "                sum_value = add(6, 3)\n",
    "                print(sum_value)\n",
    "                9"
   ]
  },
  {
   "cell_type": "code",
   "execution_count": null,
   "id": "b8b0a152-1e26-4864-a717-fc512f14a5a8",
   "metadata": {},
   "outputs": [],
   "source": [
    "# 5. What are iterators in Python and how do they differ from iterables?\n",
    "\n",
    "## In Python, iterators and iterables are closely related but serve different purposes in the context of iteration.\n",
    "   # Iterables: An iterable is any python object/ sequential structure/ data structure that is capable of returning its members one at a time.\n",
    "               # permitting it to be iterated over in a for loop.\n",
    "          # Example: list\n",
    "                    list = [1, 2, \"Suman\"]         # list is an iterable object\n",
    "                    for i in lis:\n",
    "                        print(i)\n",
    "                    1\n",
    "                    2\n",
    "                    Suman\n",
    "    # Iterators: An iterator is an object representing a stream of data and return the data one by one. Iterators implement two methods:\n",
    "          # iter(): Returns the iterator object itself. This method is needed to support iteration in contexts like loops.\n",
    "          # next(): Returns the next item from the data stream. When there are no more items, it raises the Stop Iteration exception to signal the end of the iteration.\n",
    "       # Example: \n",
    "                 s = [1, 2, 3, 4]\n",
    "                 iter(s)\n",
    "                 a = iter(s)\n",
    "                 next(a)\n",
    "                1\n",
    "                 next(a)\n",
    "                2\n",
    "                 next(a)\n",
    "                3\n",
    "                 next(a)\n",
    "                4\n",
    "        # Key Differences:\n",
    "                # Definition: \n",
    "                           # Iterable: An object that can return an iterator.\n",
    "                           # Iterator: An object that implements the iteration protocol (_iter_() and _next_()).\n",
    "                # Usage:\n",
    "                        # Iterable: Can be looped over using a for loop.\n",
    "                        # Iterator: Used to fetch items one at a time using the next() function.\n",
    "                # State:\n",
    "                       # Iterable: Does not maintain any state.\n",
    "                       # Iterator: Maintains state, keeping track of where it is during iteration.\n",
    "                # Examples:\n",
    "                        # Iterable: Lists, strings, dictionaries.\n",
    "                        # Iterator: Objects returned by iter() function."
   ]
  },
  {
   "cell_type": "code",
   "execution_count": null,
   "id": "a8480bad-89f0-40d1-a3e1-567cd659552f",
   "metadata": {},
   "outputs": [],
   "source": [
    "# 6. Explain the concept of generators in Python and how they are defined.\n",
    "\n",
    "## Generators are a special type of function in Python that return an iterator.\n",
    "     # defination: \n",
    "            # Generator functions in Python are a way to create iterators in a more concise and memory-efficient manner.\n",
    "            # These functions allow you to iterate over a potentially large sequence of data without loading the entire sequence into memory.\n",
    "            # The main difference between a regular function and a generator function is that the latter uses the yield keyword to produce a series of values over time, one at a time, rather than returning a single result.\n",
    "    # Working Process of Generator Functions:\n",
    "            # Use of yield:\n",
    "                  # Instead of using return to send a value back to the caller, a generator function uses ‘yield’.\n",
    "                  # When the generator function encounters a ‘yield’ statement, it returns the value specified in the yield and pauses its execution state.\n",
    "                  # The next time the generator is called, it resumes from where it left off.\n",
    "                  # Example:\n",
    "                           def pw_generator():\n",
    "                               yield 1\n",
    "                                yield 2\n",
    "                                 yield 3\n",
    "                            generator = pw_generator()\n",
    "                            print(next(generator))\n",
    "                            1\n",
    "                            print(next(generator))\n",
    "                            2\n",
    "                            print(next(generator))\n",
    "                            3\n",
    "            # Lazy Evaluation: # Generator functions follow the concept of lazy evaluation.\n",
    "                               # This means that the values are generated on-the-fly and only when requested.\n",
    "                               # This is particularly useful for working with large datasets or infinite sequences.\n",
    "                               # Example:\n",
    "                                       def countdown(n):\n",
    "                                       while n > 0:\n",
    "                                        yield n\n",
    "                                        n -= 1\n",
    "                                        # Using the generator for a countdown\n",
    "                                        countdown_gen = countdown(5)\n",
    "                                         for number in countdown_gen:\n",
    "                                            print(number)\n",
    "                                        5, 4, 3, 2, 1\n",
    "            # Memory Efficiency: # Generators are memory-efficient because they don't store all values in memory at once.\n",
    "                                 # Each value is generated and consumed one at a time, making them suitable for working with large datasets or when memory usage is a concern.\n",
    "                                 # Example:\n",
    "                                          def fibonacci_generator():\n",
    "                                          a, b = 0, 1\n",
    "                                            while True:\n",
    "                                            yield a\n",
    "                                            a, b = b, a + b\n",
    "                                          # Using the generator for Fibonacci sequence\n",
    "                                          fib_gen = fibonacci_generator()\n",
    "                                            for _ in range(10):\n",
    "                                            print(next(fib_gen))\n",
    "                                            0, 1, 1, 2, 3, 5, 8, 13, 21, 34\n",
    "            # Example of Generators:\n",
    "                               def square_number_generators(n):\n",
    "                                   for i in range(n):\n",
    "                                       yield i**2\n",
    "                                square_number_generators(5)\n",
    "                                gen = square_number_generators(5)\n",
    "                                next(gen)\n",
    "                                0\n",
    "                                next(gen)\n",
    "                                1\n",
    "                                next(gen)\n",
    "                                4\n",
    "                                next(gen)\n",
    "                                9\n",
    "                                next(gen)\n",
    "                                16"
   ]
  },
  {
   "cell_type": "code",
   "execution_count": null,
   "id": "b01c9aca-ce2b-4f23-a23e-0d7fde264aa8",
   "metadata": {},
   "outputs": [],
   "source": [
    "# 7.  What are the advantages of using generators over regular functions?\n",
    "\n",
    "## Generators offer several advantages over regular functions, especially in terms of performance and memory efficiency.Here are some of the benefits:\n",
    "     # Memory Efficiency:# Generators produce values one at a time and only when needed, which is known as lazy evaluation.\n",
    "                         # This means they don't require storing the entire dataset in memory at once.\n",
    "                         # This is particularly useful for processing large datasets or streams of data where holding everything in memory could be impractical.\n",
    "     # Lazy Evaluation:# Generators evaluate values only when needed, which can improve performance in certain scenarios.\n",
    "                       # This is known as lazy evaluation or demand-driven evaluation.\n",
    "     # Simpler Code for Iterators:# Generators simplify the creation of iterators.\n",
    "                                  # Instead of defining a class with _iter_ and _next_ methods, you can use a generator function with yield statements.\n",
    "                                  # This can make the code more readable and concise.\n",
    "     # Simplified Code Structure:# For certain algorithms, especially those involving pipelines \n",
    "                                 # or complex stateful processing, using generators can lead to more modular and cleaner code.\n",
    "                                 # Generators can be composed together to form pipelines, where each stage processes data and passes it along to the next stage.\n",
    "     # State Preservation:# Generators maintain their state between yields, which allows them to resume execution from where they left off.\n",
    "                          # This is useful for tasks that need to maintain context or where the next value depends on previous ones.\n",
    "     # Ease of Use in Iteration:# Generators are naturally iterable and integrate seamlessly with Python’s iteration constructs (like for loops).\n",
    "                                # This can simplify code that needs to iterate over a sequence of values.\n",
    "    # Example:\n",
    "              # Regular Function:\n",
    "                                def square_number(n):\n",
    "                                    result = []\n",
    "                                    for i in range(n):\n",
    "                                        result.append(i ** 2)\n",
    "                                    return result\n",
    "                                square_number(10)\n",
    "                                [0, 1, 4, 9, 16, 25, 36, 49, 64, 81]\n",
    "              # Generator function:\n",
    "                                def square_number_generators(n):\n",
    "                                   for i in range(n):\n",
    "                                       yield i**2\n",
    "                                square_number_generators(5)\n",
    "                                gen = square_number_generators(5)\n",
    "                                next(gen)\n",
    "                                0\n",
    "                                next(gen)\n",
    "                                1\n",
    "                                next(gen)\n",
    "                                4\n",
    "                                next(gen)\n",
    "                                9\n",
    "                                next(gen)\n",
    "                                16"
   ]
  },
  {
   "cell_type": "code",
   "execution_count": null,
   "id": "ffb06d05-f5f9-44b2-91fb-30b3e3026735",
   "metadata": {},
   "outputs": [],
   "source": [
    "# 8.  What is a lambda function in Python and when is it typically used?\n",
    "\n",
    "## Lambda functions, also known as anonymous functions, are concise, single-expression functions in Python.\n",
    "   # Unlike regular functions defined using the def keyword, lambda functions are often used for short-term operations and are defined in a single line.\n",
    "   # Syntax:\n",
    "           lambda arguments: expression\n",
    "    # Working Process of Lambda Function:\n",
    "             # Lambda Function Creation:\n",
    "                     # First, you create a lambda function using the `lambda` keyword.\n",
    "                     # The basic syntax is: `lambda arguments: expression`.\n",
    "                \n",
    "            # Arguments:\n",
    "                     # Lambda functions can take any number of arguments (input parameters).\n",
    "            # Expression:\n",
    "                     # First, you create a lambda function using the `lambda` keyword.\n",
    "            # Function Object:\n",
    "                     # He lambda function creation results in a function object.\n",
    "                     # This object can be assigned to a variable, like `add` in our example.\n",
    "            # Function Call:\n",
    "                     # When you want to use the lambda function, you call it like any other function, providing values for its arguments.\n",
    "            # Expression Execution:\n",
    "                     # The lambda expression is then executed with the provided arguments.\n",
    "            # Result:\n",
    "                     # The result of the lambda expression becomes the result of the function call.\n",
    "        # The summarized process is:\n",
    "            # Create Lambda Function:\n",
    "                      add = lambda x, y: x + y\n",
    "            # Call Lambda Function:\n",
    "                      result = add(3, 4)\n",
    "    # Example: \n",
    "             is_even = lambda x: x % 2 == 0\n",
    "             is_even(7)\n",
    "             False\n",
    "            is_even(10)\n",
    "            True"
   ]
  },
  {
   "cell_type": "code",
   "execution_count": null,
   "id": "021dbb7d-457b-4216-bf64-08d6e3e95b26",
   "metadata": {},
   "outputs": [],
   "source": [
    "# 9. Explain the purpose and usage of the `map()` function in Python.\n",
    "\n",
    "## The `map()` function executes a specified function for each item in an `iterable`. The item is sent to the function as a parameter.\n",
    "    # The map() function in Python is a built-in function that applies a given function to all the items in an iterable and returns an iterable map object of the results.\n",
    "     # The syntax for the map() function is: map(function, iterable, ...)\n",
    "    # Working Process of map() function:\n",
    "          # Function Parameter:\n",
    "                      # The first parameter of map() is the function that you want to apply to each item in the iterable.\n",
    "                      # It can be a built-in function, a user-defined function, or a lambda function.\n",
    "          # Iterable Parameters:\n",
    "                      # The second parameter onward represents one or more iterables (e.g., lists, tuples, strings) on which the specified function will be applied.\n",
    "                      # All iterables should have the same length. If one iterable is shorter than the others, map() stops when theshortest iterable is exhausted.\n",
    "          # Iterating Over the Iterable(s):\n",
    "                      # map() applies the specified function to each corresponding item in the iterables, moving in a parallel fashion.\n",
    "                      # It starts by applying the function to the first items, then the second items, and so on.\n",
    "          # Generating a Map Object (Iterator):\n",
    "                      # map() returns an iterable map object. This is a special type of iterator that contains the results of applying the function to the items in the input iterables.\n",
    "          # Converting Map Object to a Usable Form:\n",
    "                      # To see the results, you need to convert the map object into a list, tuple, or another iterable form using the list(), tuple(), or other conversion functions.\n",
    "    # map() function Examples:\n",
    "           # Convert String Numbers to Integers:\n",
    "                                              numbers_as_strings = [\"1\", \"2\", \"3\", \"4\", \"5\"]\n",
    "                                              numbers_as_integers = list(map(int, numbers_as_strings))\n",
    "                                              print(numbers_as_integers)\n",
    "                                              # Output: [1, 2, 3, 4, 5]\n",
    "           # Calculate Square of Each Number:\n",
    "                                             numbers = [1, 2, 3, 4, 5]\n",
    "                                             squared_numbers = list(map(lambda x: x**2, numbers))\n",
    "                                             print(squared_numbers)\n",
    "                                             # Output: [1, 4, 9, 16, 25]\n",
    "           # Combine First and Last Names:\n",
    "                                            first_names = [\"Suman\", \"Ahil\", \"Saikat\"]\n",
    "                                            last_names = [\"Jana\", \"Khan\", \"Kumar\"]\n",
    "                                            full_names = list(map(lambda first, last: f\"{first}\n",
    "                                            {last}\", first_names, last_names))\n",
    "                                            print(full_names)\n",
    "                                            # Output: ['Suman Jana', 'Ahil Khan', 'Saikat Kumar']\n",
    "           # Capitalize First Letter of Each Word:\n",
    "                                            words = [\"hindi\", \"bengali\", \"math\"]\n",
    "                                            capitalized_words = list(map(str.capitalize, words))\n",
    "                                            print(capitalized_words)\n",
    "                                            # Output: ['Hindi', 'Bengali', 'Math']"
   ]
  },
  {
   "cell_type": "code",
   "execution_count": null,
   "id": "eae7a2e7-5822-4c93-8e2e-fada556fbd77",
   "metadata": {},
   "outputs": [],
   "source": [
    "# 10. What is the difference between `map()`, `reduce()`, and `filter()` functions in Python?\n",
    "\n",
    "## In Python, map(), reduce(), and filter() are built-in functions that are commonly used for functional programming tasks.\n",
    "    # They each serve different purposes for processing iterable data structures, such as lists or tuples. Here's a breakdown of each function:\n",
    "       # map():\n",
    "            # Purpose: Applies a given function to all items in an iterable (like a list) and returns a map object (which is an iterator).\n",
    "            # Syntax: map(function, iterable, ...)\n",
    "            # Parameters:\n",
    "                         # function: The function to apply to each item in the iterable.\n",
    "                         # iterable: The iterable whose items are to be processed.\n",
    "            # Example:\n",
    "                      numbers = [1, 2, 3, 4, 5]\n",
    "                      squared_numbers = list(map(lambda x: x**2, numbers))\n",
    "                      print(squared_numbers)\n",
    "                      # Output: [1, 4, 9, 16, 25]\n",
    "       # reduce():\n",
    "               # Purpose: Applies a binary function (a function that takes two arguments) cumulatively to the items of an iterable, reducing the iterable to a single value.\n",
    "               # Syntax: reduce(function, iterable, [initializer])\n",
    "               # Parameters:\n",
    "                           # function: The function to apply. It must take two arguments.\n",
    "                           # iterable: The iterable whose items are to be processed.\n",
    "                           # initializer (optional): A starting value to use in the reduction. If not provided, the first item of the iterable is used as the initial value.\n",
    "               # Example: \n",
    "                        from functools import reduce\n",
    "                        numbers = [1, 2, 3, 4, 5]\n",
    "                        product = reduce(lambda x, y: x * y, numbers)\n",
    "                        print(product)\n",
    "                        # Output: 120\n",
    "      # filter():\n",
    "               # Purpose: Constructs an iterator from elements of an iterable for which a function returns true.\n",
    "               # Syntax: filter(function, iterable)\n",
    "               # Parameters:\n",
    "                          # function: The function to test each element of the iterable. If None, it simply removes elements that are falsy.\n",
    "                          # iterable: The iterable whose elements are to be tested.\n",
    "               # Example:\n",
    "                         numbers = [1, 2, 3, 4, 5, 6]\n",
    "                         even_numbers = filter(lambda x: x % 2 == 0, numbers)\n",
    "                         print(list(even_numbers))\n",
    "                         # Output: [2, 4, 6]"
   ]
  },
  {
   "cell_type": "code",
   "execution_count": null,
   "id": "b8f5498f-484f-469b-9734-06b38cf10a55",
   "metadata": {},
   "outputs": [],
   "source": [
    "# 11.  Using pen & Paper write the internal mechanism for sum operation using  reduce function on this given list:[47,11,42,13].\n",
    "\n",
    "## The answer is (11 1st page.docx & 11 2nd page.docx)"
   ]
  },
  {
   "cell_type": "raw",
   "id": "a93b21f5-07a7-451a-a607-53b96fbd015a",
   "metadata": {},
   "source": [
    "Practical Assignment "
   ]
  },
  {
   "cell_type": "code",
   "execution_count": null,
   "id": "946ea0a3-1bd4-4a84-b2ad-72a9169ef56f",
   "metadata": {},
   "outputs": [],
   "source": [
    "# 1. Write a Python function that takes a list of numbers as input and returns the sum of all even numbers in the list.\n",
    "\n",
    "## "
   ]
  },
  {
   "cell_type": "code",
   "execution_count": 2,
   "id": "220999f2-7a74-4d14-91c4-97272dfaaeff",
   "metadata": {},
   "outputs": [],
   "source": [
    "def sum_of_evens(numbers):\n",
    "    total = 0\n",
    "    for number in numbers:\n",
    "        if number % 2 == 0:\n",
    "            total += number\n",
    "    return total"
   ]
  },
  {
   "cell_type": "code",
   "execution_count": 3,
   "id": "01ca4b39-9006-46a5-9ec0-b6a1485413de",
   "metadata": {},
   "outputs": [],
   "source": [
    "numbers = [1, 2, 3, 4, 5, 6, 7, 8, 9]"
   ]
  },
  {
   "cell_type": "code",
   "execution_count": 4,
   "id": "26ff6f9d-c20f-49ba-a158-2294f0563f61",
   "metadata": {},
   "outputs": [
    {
     "name": "stdout",
     "output_type": "stream",
     "text": [
      "20\n"
     ]
    }
   ],
   "source": [
    "print(sum_of_evens(numbers))"
   ]
  },
  {
   "cell_type": "code",
   "execution_count": null,
   "id": "1e9b71d8-808b-4c30-90e4-89945b47f4ef",
   "metadata": {},
   "outputs": [],
   "source": [
    "# 2.  Create a Python function that accepts a string and returns the reverse of that string.\n",
    "\n",
    "## "
   ]
  },
  {
   "cell_type": "code",
   "execution_count": 8,
   "id": "9edd1f50-4885-41b2-8071-e4ca406db2e4",
   "metadata": {},
   "outputs": [],
   "source": [
    "def reverse_string(s):\n",
    "    return s[::-1]"
   ]
  },
  {
   "cell_type": "code",
   "execution_count": 9,
   "id": "3ee105bf-2bad-4e64-a392-7c1d86d5ea15",
   "metadata": {},
   "outputs": [],
   "source": [
    "string = \"Suman Jana\""
   ]
  },
  {
   "cell_type": "code",
   "execution_count": 10,
   "id": "91d40e04-6318-44c9-a108-e5c8ae1bdd6f",
   "metadata": {},
   "outputs": [],
   "source": [
    "reversed_string = reverse_string(string)"
   ]
  },
  {
   "cell_type": "code",
   "execution_count": 11,
   "id": "bb19fffa-1103-4fe7-8ef8-e487d904da83",
   "metadata": {},
   "outputs": [
    {
     "name": "stdout",
     "output_type": "stream",
     "text": [
      "anaJ namuS\n"
     ]
    }
   ],
   "source": [
    "print(reversed_string)"
   ]
  },
  {
   "cell_type": "code",
   "execution_count": null,
   "id": "79f613f3-9682-42eb-845c-77577e947f60",
   "metadata": {},
   "outputs": [],
   "source": [
    "# 3. Implement a Python function that takes a list of integers and returns a new list containing the squares of each number.\n",
    "\n",
    "##"
   ]
  },
  {
   "cell_type": "code",
   "execution_count": 13,
   "id": "166ba5c9-fcbc-48c5-a59b-4992ca7ec48a",
   "metadata": {},
   "outputs": [],
   "source": [
    "def square_numbers(numbers):\n",
    "    return [x ** 2 for x in numbers]"
   ]
  },
  {
   "cell_type": "code",
   "execution_count": 14,
   "id": "99084a3c-1a44-4e17-8082-f093044bfcbe",
   "metadata": {},
   "outputs": [],
   "source": [
    "s = [1, 2, 3, 4, 5]"
   ]
  },
  {
   "cell_type": "code",
   "execution_count": 16,
   "id": "9af981fc-5a85-47ea-bd3e-c0da75cdd158",
   "metadata": {},
   "outputs": [],
   "source": [
    "s1 = square_numbers(s)"
   ]
  },
  {
   "cell_type": "code",
   "execution_count": 17,
   "id": "9cc1fc9f-a66e-481a-b5c4-c2f1f54eb954",
   "metadata": {},
   "outputs": [
    {
     "name": "stdout",
     "output_type": "stream",
     "text": [
      "[1, 4, 9, 16, 25]\n"
     ]
    }
   ],
   "source": [
    "print(s1)"
   ]
  },
  {
   "cell_type": "code",
   "execution_count": null,
   "id": "9fca3804-a0af-41e9-b73c-fa0e2c02d47c",
   "metadata": {},
   "outputs": [],
   "source": [
    "# 4. Write a Python function that checks if a given number is prime or not from 1 to 200.\n",
    "\n",
    "##"
   ]
  },
  {
   "cell_type": "code",
   "execution_count": 1,
   "id": "926b64cc-036c-4625-b727-93e680ce0519",
   "metadata": {},
   "outputs": [],
   "source": [
    "def is_prime(n):\n",
    "    if n <= 1:\n",
    "        return False\n",
    "    if n <= 3:\n",
    "        return True\n",
    "    if n % 2 == 0 or n % 3 == 0:\n",
    "        return False\n",
    "    i = 5\n",
    "    while i * i <= n:\n",
    "        if n % i == 0 or n % (i + 2) == 0:\n",
    "            return False\n",
    "        i += 6\n",
    "    return True"
   ]
  },
  {
   "cell_type": "code",
   "execution_count": 2,
   "id": "a6ba639f-c6e2-425c-9519-4499abeab998",
   "metadata": {},
   "outputs": [],
   "source": [
    "def check_prime_in_range(number):\n",
    "    if 1 <= number <= 200:\n",
    "        return is_prime(number)\n",
    "    else:\n",
    "        raise ValueError(\"Number out of range. Must be between 1 and 200.\")"
   ]
  },
  {
   "cell_type": "code",
   "execution_count": 4,
   "id": "04d6717c-0671-4e09-916c-c013dd60edc3",
   "metadata": {},
   "outputs": [
    {
     "name": "stdout",
     "output_type": "stream",
     "text": [
      "199 is a prime number.\n"
     ]
    }
   ],
   "source": [
    "number = 199\n",
    "if check_prime_in_range(number):\n",
    "    print(f\"{number} is a prime number.\")\n",
    "else:\n",
    "    print(f\"{number} is not a prime number.\")"
   ]
  },
  {
   "cell_type": "code",
   "execution_count": 5,
   "id": "ab0c4476-02c9-4428-9551-77292700dd0d",
   "metadata": {},
   "outputs": [
    {
     "name": "stdout",
     "output_type": "stream",
     "text": [
      "39 is not a prime number.\n"
     ]
    }
   ],
   "source": [
    "number = 39\n",
    "if check_prime_in_range(number):\n",
    "    print(f\"{number} is a prime number.\")\n",
    "else:\n",
    "    print(f\"{number} is not a prime number.\")"
   ]
  },
  {
   "cell_type": "code",
   "execution_count": null,
   "id": "35870d7f-5c8c-4058-bded-152c3f65a453",
   "metadata": {},
   "outputs": [],
   "source": [
    "# 5. Create an iterator class in Python that generates the Fibonacci sequence up to a specified number of terms.\n",
    "\n",
    "##"
   ]
  },
  {
   "cell_type": "code",
   "execution_count": 10,
   "id": "8d1bc567-014c-4070-a2af-4c0364d6566c",
   "metadata": {},
   "outputs": [],
   "source": [
    "def fibonacci_generator():\n",
    "    a, b = 0, 1\n",
    "    while True:\n",
    "        yield a\n",
    "        a, b = b, a + b"
   ]
  },
  {
   "cell_type": "code",
   "execution_count": 11,
   "id": "447e78fb-e915-40ec-94fc-13a2a6d16c6b",
   "metadata": {},
   "outputs": [
    {
     "name": "stdout",
     "output_type": "stream",
     "text": [
      "0\n",
      "1\n",
      "1\n",
      "2\n",
      "3\n",
      "5\n",
      "8\n",
      "13\n"
     ]
    }
   ],
   "source": [
    "fib_gen = fibonacci_generator()\n",
    "for _ in range(8):\n",
    "    print(next(fib_gen))"
   ]
  },
  {
   "cell_type": "code",
   "execution_count": null,
   "id": "76ef81a2-0293-4b83-ae20-9975dda443c7",
   "metadata": {},
   "outputs": [],
   "source": [
    "# 6. Write a generator function in Python that yields the powers of 2 up to a given exponent.\n",
    "\n",
    "##"
   ]
  },
  {
   "cell_type": "code",
   "execution_count": 6,
   "id": "c0773644-585d-4d05-bbf8-1cebbf07f4c1",
   "metadata": {},
   "outputs": [],
   "source": [
    "def powers_of_two(exponent):\n",
    "    result = 1\n",
    "    for _ in range(exponent + 1):\n",
    "        yield result\n",
    "        result *= 2"
   ]
  },
  {
   "cell_type": "code",
   "execution_count": 7,
   "id": "be919e63-49c5-4a65-8ff5-5a20a0cae82b",
   "metadata": {},
   "outputs": [
    {
     "name": "stdout",
     "output_type": "stream",
     "text": [
      "1\n",
      "2\n",
      "4\n",
      "8\n",
      "16\n",
      "32\n",
      "64\n"
     ]
    }
   ],
   "source": [
    "exponent = 6\n",
    "for power in powers_of_two(exponent):\n",
    "    print(power)"
   ]
  },
  {
   "cell_type": "code",
   "execution_count": null,
   "id": "0203fd43-3d57-491d-a198-14da17209985",
   "metadata": {},
   "outputs": [],
   "source": [
    "# 7. Implement a generator function that reads a file line by line and yields each line as a string.\n",
    "\n",
    "##"
   ]
  },
  {
   "cell_type": "code",
   "execution_count": 8,
   "id": "3dc3db85-409f-4a55-a457-4c76426b2792",
   "metadata": {},
   "outputs": [],
   "source": [
    "def data_science_concepts_generator():\n",
    "    yield \"Data Exploration\"\n",
    "    yield \"Machine Learning\"\n",
    "    yield \"Data Visualization\"\n",
    "    yield \"Statistics Basics\""
   ]
  },
  {
   "cell_type": "code",
   "execution_count": 9,
   "id": "eef8b978-372c-4d08-9ed1-108daf7a3a2d",
   "metadata": {},
   "outputs": [
    {
     "name": "stdout",
     "output_type": "stream",
     "text": [
      "Understand: Data Exploration\n",
      "Understand: Machine Learning\n",
      "Understand: Data Visualization\n",
      "Understand: Statistics Basics\n"
     ]
    }
   ],
   "source": [
    "for concept in data_science_concepts_generator():\n",
    "    print(f\"Understand: {concept}\")"
   ]
  },
  {
   "cell_type": "code",
   "execution_count": null,
   "id": "a3ead789-d65a-4eb6-b252-84c8d78659c3",
   "metadata": {},
   "outputs": [],
   "source": [
    "# 8. Use a lambda function in Python to sort a list of tuples based on the second element of each tuple.\n",
    "\n",
    "##"
   ]
  },
  {
   "cell_type": "code",
   "execution_count": 13,
   "id": "92ed8de2-5a41-4933-8ad6-e515fa1b47d1",
   "metadata": {},
   "outputs": [],
   "source": [
    "list_tuple = [(1, 'mango'), (2, 'apple'), (3, 'pear'),(4, 'grape')]"
   ]
  },
  {
   "cell_type": "code",
   "execution_count": 14,
   "id": "888ab60e-f6bb-454d-b4d2-ebbf936d7c1e",
   "metadata": {},
   "outputs": [],
   "source": [
    "sort_a_list = sorted(list_tuple, key=lambda x: x[1])"
   ]
  },
  {
   "cell_type": "code",
   "execution_count": 15,
   "id": "bfbfc999-117b-45fb-8d93-14b70f99af2c",
   "metadata": {},
   "outputs": [
    {
     "name": "stdout",
     "output_type": "stream",
     "text": [
      "[(2, 'apple'), (4, 'grape'), (1, 'mango'), (3, 'pear')]\n"
     ]
    }
   ],
   "source": [
    "print(sort_a_list)"
   ]
  },
  {
   "cell_type": "code",
   "execution_count": null,
   "id": "32ef8cb7-2ffd-4bce-867f-f486166ad806",
   "metadata": {},
   "outputs": [],
   "source": [
    "# 9. Write a Python program that uses `map()` to convert a list of temperatures from Celsius to Fahrenheit.\n",
    "\n",
    "##"
   ]
  },
  {
   "cell_type": "code",
   "execution_count": 16,
   "id": "328a2b82-5001-43dd-bd74-04f01cd206fe",
   "metadata": {},
   "outputs": [],
   "source": [
    "def celsius_to_fahrenheit(celsius):\n",
    "    return (celsius * 9/5) + 32"
   ]
  },
  {
   "cell_type": "code",
   "execution_count": 20,
   "id": "d7fabaf2-6bdb-459a-8159-fe5546b29ed3",
   "metadata": {},
   "outputs": [],
   "source": [
    "celsius_temps = [0, 10, 20, 29, 37, 54, 67, 88, 100]"
   ]
  },
  {
   "cell_type": "code",
   "execution_count": 21,
   "id": "d5918793-ac51-4105-aa36-c68880579c65",
   "metadata": {},
   "outputs": [],
   "source": [
    "fahrenheit_temps = map(celsius_to_fahrenheit, celsius_temps)"
   ]
  },
  {
   "cell_type": "code",
   "execution_count": 22,
   "id": "0d6389a1-8324-4365-b2c8-c725ab9ee13f",
   "metadata": {},
   "outputs": [],
   "source": [
    "fahrenheit_temps_list = list(fahrenheit_temps)"
   ]
  },
  {
   "cell_type": "code",
   "execution_count": 23,
   "id": "af4b7c86-f690-4e98-8345-61c35283dbfe",
   "metadata": {},
   "outputs": [
    {
     "name": "stdout",
     "output_type": "stream",
     "text": [
      "[32.0, 50.0, 68.0, 84.2, 98.6, 129.2, 152.6, 190.4, 212.0]\n"
     ]
    }
   ],
   "source": [
    "print(fahrenheit_temps_list)"
   ]
  },
  {
   "cell_type": "code",
   "execution_count": null,
   "id": "fae00bc4-fcbe-4acf-bc84-3360f2dea7da",
   "metadata": {},
   "outputs": [],
   "source": [
    "# 10. Create a Python program that uses `filter()` to remove all the vowels from a given string.\n",
    "\n",
    "##"
   ]
  },
  {
   "cell_type": "code",
   "execution_count": 24,
   "id": "ef28f382-2603-4fd5-b3bd-ca5f6845020b",
   "metadata": {},
   "outputs": [],
   "source": [
    "def remove_vowels(string):\n",
    "    vowels = \"aeiouAEIOU\"\n",
    "    return ''.join(char for char in string if char not in vowels)"
   ]
  },
  {
   "cell_type": "code",
   "execution_count": 25,
   "id": "7baf40b5-bf67-4ddd-96d4-4e94a24b7b9a",
   "metadata": {},
   "outputs": [],
   "source": [
    "string = \"Hello Suman\""
   ]
  },
  {
   "cell_type": "code",
   "execution_count": 26,
   "id": "deb68204-89df-467c-bd19-6d91a10a2550",
   "metadata": {},
   "outputs": [],
   "source": [
    "filtered_string = filter(remove_vowels, string)"
   ]
  },
  {
   "cell_type": "code",
   "execution_count": 27,
   "id": "75434307-cd3b-44da-a256-f3a00ef1de3c",
   "metadata": {},
   "outputs": [
    {
     "name": "stdout",
     "output_type": "stream",
     "text": [
      "['H', 'l', 'l', ' ', 'S', 'm', 'n']\n"
     ]
    }
   ],
   "source": [
    "print(list(filtered_string))"
   ]
  },
  {
   "cell_type": "code",
   "execution_count": null,
   "id": "10daa24f-8f2e-41fa-b8c9-42f95230ffee",
   "metadata": {},
   "outputs": [],
   "source": [
    "# 11. Imagine an accounting routine used in a book shop. It works on a list with sublists, which look like this:\n",
    "        Order Number     Book Title and Author            Quantity     Price per Item\n",
    "        34587            Learning Python, Mark Lutz           4           40.95\n",
    "        98762            Programming Python, Mark Lutz        5           56.80\n",
    "        77226            Head First Python, Paul Barry        3           32.95\n",
    "        88112            Einfuhrung in Python3, Bernd Klein   3           24.99\n",
    "    Write a Python program, which returns a list with 2-tuples. Each tuple consists of the order number and the\n",
    "    product of the price per item and the quantity. The product should be increased by 10,- € if the value of the\n",
    "    order is smaller than 100,00 €.\n",
    "    Write a Python program using lambda and map.\n",
    "    \n",
    "##"
   ]
  },
  {
   "cell_type": "code",
   "execution_count": 1,
   "id": "5b8d5f9d-f74a-4624-a443-5573b975648b",
   "metadata": {},
   "outputs": [],
   "source": [
    "orders = [\n",
    "    [34587, \"Learning Python, Mark Lutz\", 4, 40.95],\n",
    "    [98762, \"Programming Python, Mark Lutz\", 5, 56.80],\n",
    "    [77226, \"Head First Python, Paul Barry\", 3, 32.95],\n",
    "    [88112, \"Einführung in Python3, Bernd Klein\", 3, 24.99]\n",
    "]"
   ]
  },
  {
   "cell_type": "code",
   "execution_count": 2,
   "id": "0e44a415-ab68-4955-b1d6-0e155bec8a42",
   "metadata": {},
   "outputs": [],
   "source": [
    "# Using lambda and map to compute the required 2-tuples\n",
    "result = list(map(lambda order: (order[0], (order[2] * order[3]) if order[2] * order[3] >= 100 else (order[2] * order[3] + 10)), orders))"
   ]
  },
  {
   "cell_type": "code",
   "execution_count": 3,
   "id": "babd6f9e-6870-4a7c-a68d-30de3cdc6ae4",
   "metadata": {},
   "outputs": [
    {
     "name": "stdout",
     "output_type": "stream",
     "text": [
      "[(34587, 163.8), (98762, 284.0), (77226, 108.85000000000001), (88112, 84.97)]\n"
     ]
    }
   ],
   "source": [
    "print(result)"
   ]
  },
  {
   "cell_type": "code",
   "execution_count": null,
   "id": "10ffb975-d375-4897-94b2-adb1434327df",
   "metadata": {},
   "outputs": [],
   "source": []
  }
 ],
 "metadata": {
  "kernelspec": {
   "display_name": "Python 3 (ipykernel)",
   "language": "python",
   "name": "python3"
  },
  "language_info": {
   "codemirror_mode": {
    "name": "ipython",
    "version": 3
   },
   "file_extension": ".py",
   "mimetype": "text/x-python",
   "name": "python",
   "nbconvert_exporter": "python",
   "pygments_lexer": "ipython3",
   "version": "3.10.8"
  }
 },
 "nbformat": 4,
 "nbformat_minor": 5
}
